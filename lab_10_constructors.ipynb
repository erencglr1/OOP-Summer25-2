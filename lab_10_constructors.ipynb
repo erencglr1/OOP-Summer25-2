{
 "cells": [
  {
   "cell_type": "code",
   "execution_count": null,
   "id": "10de20da",
   "metadata": {
    "vscode": {
     "languageId": "plaintext"
    }
   },
   "outputs": [],
   "source": [
    "Class Animal:\n",
    "  def __init__(self):\n",
    "    print('i love dogs ')\n",
    "animal1 = Animal()\n",
    "animal2 = Animal()\n",
    "animal3 = Animal()"
   ]
  },
  {
   "cell_type": "code",
   "execution_count": null,
   "id": "0a687817",
   "metadata": {
    "vscode": {
     "languageId": "plaintext"
    }
   },
   "outputs": [],
   "source": [
    "class Car:\n",
    "    def __init__(self, brand, model):\n",
    "        print('i like cars')\n",
    "        self.brand = brand\n",
    "        self.model = model\n",
    "\n",
    "car1 = Car('Honda', 'Civic')\n",
    "car2 = Car('Chevrolet', 'Camaro')\n",
    "car3 = Car('Mercedes', 'C200')\n"
   ]
  }
 ],
 "metadata": {
  "language_info": {
   "name": "python"
  }
 },
 "nbformat": 4,
 "nbformat_minor": 5
}
