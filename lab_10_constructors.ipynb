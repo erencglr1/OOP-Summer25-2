{
 "cells": [
  {
   "cell_type": "code",
   "execution_count": 5,
   "id": "10de20da",
   "metadata": {},
   "outputs": [
    {
     "name": "stdout",
     "output_type": "stream",
     "text": [
      "i love dogs \n",
      "i love dogs \n",
      "i love dogs \n"
     ]
    }
   ],
   "source": [
    "class Animal:\n",
    "  def __init__(self):\n",
    "    print('i love dogs ')\n",
    "animal1 = Animal()\n",
    "animal2 = Animal()\n",
    "animal3 = Animal()"
   ]
  },
  {
   "cell_type": "code",
   "execution_count": 4,
   "id": "0a687817",
   "metadata": {},
   "outputs": [
    {
     "name": "stdout",
     "output_type": "stream",
     "text": [
      "i like cars\n",
      "i like cars\n",
      "i like cars\n"
     ]
    }
   ],
   "source": [
    "class Car:\n",
    "    def __init__(self, brand, model):\n",
    "        print('i like cars')\n",
    "        self.brand = brand\n",
    "        self.model = model\n",
    "\n",
    "car1 = Car('Honda', 'Civic')\n",
    "car2 = Car('Chevrolet', 'Camaro')\n",
    "car3 = Car('Mercedes', 'C200')\n"
   ]
  },
  {
   "cell_type": "code",
   "execution_count": 6,
   "id": "d4137423",
   "metadata": {},
   "outputs": [],
   "source": [
    "class House:\n",
    "    def __init__(self, location, floors, furnitures):\n",
    "        self.location = location      \n",
    "        self.floors = floors         \n",
    "        self.furnitures = furnitures  \n",
    "\n",
    "\n",
    "house1 = House(\n",
    "    {'country': 'Turkey', 'city': 'Hatay', 'street': 'Mustafa mahallesi'},\n",
    "    1,\n",
    "    ['table', 'oven', 'sofa']\n",
    ")\n",
    "\n",
    "\n",
    "house2 = House(\n",
    "    {'country': 'Poland', 'city': 'Warsaw', 'street': 'Ajelaogora 45'},\n",
    "    3,\n",
    "    ['bed', 'computer', 'desk']\n",
    ")"
   ]
  }
 ],
 "metadata": {
  "kernelspec": {
   "display_name": "Python 3",
   "language": "python",
   "name": "python3"
  },
  "language_info": {
   "codemirror_mode": {
    "name": "ipython",
    "version": 3
   },
   "file_extension": ".py",
   "mimetype": "text/x-python",
   "name": "python",
   "nbconvert_exporter": "python",
   "pygments_lexer": "ipython3",
   "version": "3.12.1"
  }
 },
 "nbformat": 4,
 "nbformat_minor": 5
}
