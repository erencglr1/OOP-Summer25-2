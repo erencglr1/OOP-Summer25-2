{
 "cells": [
  {
   "cell_type": "code",
   "execution_count": 1,
   "id": "633e3d75",
   "metadata": {},
   "outputs": [],
   "source": [
    "class Student:\n",
    "    def hello(self):\n",
    "        print(\"Hello! I am a student.\")\n"
   ]
  },
  {
   "cell_type": "code",
   "execution_count": 2,
   "id": "01966a72",
   "metadata": {},
   "outputs": [
    {
     "name": "stdout",
     "output_type": "stream",
     "text": [
      "Hello! I am a student.\n"
     ]
    }
   ],
   "source": [
    "my_student = Student()\n",
    "my_student.hello()"
   ]
  },
  {
   "cell_type": "code",
   "execution_count": 3,
   "id": "7b0e493d",
   "metadata": {},
   "outputs": [],
   "source": [
    "class Student:\n",
    "    def __init__(self, name, index_number):\n",
    "        self.name = name\n",
    "        self.index_number = index_number\n",
    "\n",
    "    def hello(self):\n",
    "        print(\"Hello, I am\", self.name, \"my index number is\", self.index_number)\n"
   ]
  },
  {
   "cell_type": "code",
   "execution_count": 4,
   "id": "64a3f6cf",
   "metadata": {},
   "outputs": [
    {
     "name": "stdout",
     "output_type": "stream",
     "text": [
      "Hello, I am Eren Caglar my index number is 35095\n"
     ]
    }
   ],
   "source": [
    "student1 = Student(\"Eren Caglar\", 35095)\n",
    "student1.hello()"
   ]
  }
 ],
 "metadata": {
  "kernelspec": {
   "display_name": "Python 3",
   "language": "python",
   "name": "python3"
  },
  "language_info": {
   "codemirror_mode": {
    "name": "ipython",
    "version": 3
   },
   "file_extension": ".py",
   "mimetype": "text/x-python",
   "name": "python",
   "nbconvert_exporter": "python",
   "pygments_lexer": "ipython3",
   "version": "3.12.1"
  }
 },
 "nbformat": 4,
 "nbformat_minor": 5
}
