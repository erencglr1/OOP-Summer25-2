{
 "cells": [
  {
   "cell_type": "code",
   "execution_count": 5,
   "id": "d304489a",
   "metadata": {},
   "outputs": [
    {
     "name": "stdout",
     "output_type": "stream",
     "text": [
      "eren caglar\n"
     ]
    }
   ],
   "source": [
    "print(\"eren caglar\")"
   ]
  },
  {
   "cell_type": "code",
   "execution_count": 6,
   "id": "72d0e3f5",
   "metadata": {},
   "outputs": [
    {
     "name": "stdout",
     "output_type": "stream",
     "text": [
      "animal\n"
     ]
    }
   ],
   "source": [
    "x=\"animal\"\n",
    "print(x)"
   ]
  },
  {
   "cell_type": "code",
   "execution_count": 9,
   "id": "f190a088",
   "metadata": {},
   "outputs": [],
   "source": [
    "countries=[\"Turkey\",\"Poland\",\"Denmark\"]"
   ]
  },
  {
   "cell_type": "code",
   "execution_count": 11,
   "id": "e213cc1d",
   "metadata": {},
   "outputs": [],
   "source": [
    "class Student:\n",
    "    def __init__(self,name,index_number):\n",
    "        self.name=name\n",
    "        self.index_number=index_number"
   ]
  }
 ],
 "metadata": {
  "kernelspec": {
   "display_name": "Python 3",
   "language": "python",
   "name": "python3"
  },
  "language_info": {
   "codemirror_mode": {
    "name": "ipython",
    "version": 3
   },
   "file_extension": ".py",
   "mimetype": "text/x-python",
   "name": "python",
   "nbconvert_exporter": "python",
   "pygments_lexer": "ipython3",
   "version": "3.12.1"
  }
 },
 "nbformat": 4,
 "nbformat_minor": 5
}
